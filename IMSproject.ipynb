{
  "nbformat": 4,
  "nbformat_minor": 0,
  "metadata": {
    "colab": {
      "name": "IMSproject.ipynb",
      "provenance": [],
      "collapsed_sections": []
    },
    "kernelspec": {
      "name": "python3",
      "display_name": "Python 3"
    },
    "language_info": {
      "name": "python"
    }
  },
  "cells": [
    {
      "cell_type": "markdown",
      "metadata": {
        "id": "E7p7bbaDXpbh"
      },
      "source": [
        "# RECORD OF **PRODUCTS**"
      ]
    },
    {
      "cell_type": "code",
      "metadata": {
        "id": "pt87nznT72Zx"
      },
      "source": [
        "record= {101 : {\"Name\": \"Fivestar\", \"Price\": 10, \"Quantity\" : 100,\"Company\" : \"Cadbury\", \"Best Before\" : \"5 months\"},\n",
        "        102 : {\"Name\": \"Eclairs\",  \"Price\": 1, \"Quantity\" : 500, \"Company\" : \"Cadbury\", \"Best Before\" : \"5 months\"},\n",
        "        103: {\"Name\": \"Diary Milk\", \"Price\": 20, \"Quantity\" : 200, \"Company\" : \"Cadbury\", \"Best Before\" : \"5 months\"},\n",
        "        104: {\"Name\": \"Bounty\", \"Price\": 50, \"Quantity\" : 100,  \"Company\" : \"PNG\", \"Best Before\" : \"5 months\"},\n",
        "        105: {\"Name\": \"Kinder Joy\" , \"Price\": 30, \"Quantity\" : 25 , \"Company\" : \"Ferrero\", \"Best Before\" : \"5 months\"},\n",
        "        106: {\"Name\": \"Oreo\", \"Price\": 10, \"Quantity\" : 50, \"Company\" : \"ITC\",\"Best Before\" : \"5 months\"},\n",
        "        107: {\"Name\": \"Dark Fantasy\", \"Price\": 30, \"Quantity\" : 20, \"Company\" : \"ITC\",\"Best Before\" : \"5 months\"},\n",
        "        108: {\"Name\": \"Hide and Seek\" , \"Price\": 10, \"Quantity\" : 20, \"Company\" : \"ITC\",\"Best Before\" : \"5 months\"},\n",
        "        109: {\"Name\": \"Gooday\", \"Price\": 10, \"Quantity\" : 20, \"Company\" : \"ITC\",\"Best Before\" : \"5 months\"},\n",
        "        110: {\"Name\": \"Parle G\", \"Price\": 5, \"Quantity\" : 20, \"Company\" : \"ITC\",\"Best Before\" : \"5 months\"},\n",
        "        111 : {\"Name\": \"Red velvet\" , \"Price\": 40, \"Quantity\" : 1, \"Company\" : \"Pillsbury\",\"Best Before\" : \"5 months\"},\n",
        "        112 : {\"Name\": \"Lavacake\", \"Price\": 35, \"Quantity\" : 1, \"Company\" : \"Pillsbury\",\"Best Before\" : \"NA\"},\n",
        "        113: {\"Name\": \"Death by Chocolate\" , \"Price\": 45, \"Quantity\" : 1, \"Company\" : \"Pillsbury\", \"Best Before\" : \"NA\"},\n",
        "        114: {\"Name\": \"butterscotch\", \"Price\": 40, \"Quantity\" : 1, \"Company\" : \"Pillsbury\",\"Best Before\" : \"NA\"},\n",
        "        115: {\"Name\": \"chocolatecake\", \"Price\": 35, \"Quantity\" : 1, \"Company\" : \"Pillsbury\", \"Best Before\" : \"NA\"},\n",
        "        116: {\"Name\": \"Lays\", \"Price\": 10, \"Quantity\" : 20, \"Company\" : \"ITC\", \"Best Before\" : \"1 month\"},\n",
        "        117: {\"Name\": \"kurkure\", \"Price\": 10, \"Quantity\" : 20, \"Company\" : \"ITC\", \"Best Before\" : \"1 month\"},\n",
        "        118: {\"Name\": \"bingo\", \"Price\": 10, \"Quantity\" : 20, \"Company\" : \"ITC\", \"Best Before\" : \"1 month\"},\n",
        "        119: {\"Name\": \"moongdhal\"   , \"Price\": 10, \"Quantity\" : 20, \"Company\" : \"ITC\", \"Best Before\" : \"1 month\"},\n",
        "        120: {\"Name\": \"littlehearts\", \"Price\": 5, \"Quantity\" : 15, \"Company\" : \"ITC\", \"Best Before\" : \"1 month\"},\n",
        "        121 : {\"Name\": \"TooYum\" , \"Price\": 10, \"Quantity\" : 15, \"Company\" : \"ITC\", \"Best Before\" : \"1 month\"},\n",
        "        122 : {\"Name\": \"Samosa\", \"Price\": 10, \"Quantity\" : 10, \"Company\" : \"Pillsbury\", \"Best Before\" : \"NA\"},\n",
        "        123: {\"Name\": \"maggie\", \"Price\": 10, \"Quantity\" : 10, \"Company\" : \"Nestle\",  \"Best Before\" : \"1 month\"},\n",
        "        124: {\"Name\": \"eggpuff\", \"Price\": 15, \"Quantity\" : 10, \"Company\" : \"Pillsbury\", \"Best Before\" : \"NA\"},\n",
        "        125: {\"Name\": \"vegpuff\", \"Price\": 12, \"Quantity\" : 10, \"Company\" : \"Pillsbury\", \"Best Before\" : \"NA\"},\n",
        "        126: {\"Name\": \"bread\", \"Price\": 25, \"Quantity\" : 5, \"Company\" : \"Pillsbury\", \"Best Before\" : \"NA\"},\n",
        "        127: {\"Name\": \"sandwich\", \"Price\": 35, \"Quantity\" : 15, \"Company\" : \"Pillsbury\", \"Best Before\" : \"NA\"},\n",
        "        128: {\"Name\": \"icecream\", \"Price\": 50, \"Quantity\" : 50, \"Company\" : \"Amul\", \"Best Before\" : \"NA\"},\n",
        "        129: {\"Name\": \"juice\", \"Price\": 30, \"Quantity\" : 10, \"Company\" : \"Frootie\", \"Best Before\" : \"NA\"},\n",
        "        130: {\"Name\": \"Buns\", \"Price\": 20, \"Quantity\" : 10, \"Company\" : \"Pillsbury\", \"Best Before\" : \"NA\"}}"
      ],
      "execution_count": null,
      "outputs": []
    },
    {
      "cell_type": "code",
      "metadata": {
        "colab": {
          "base_uri": "https://localhost:8080/"
        },
        "id": "53wnfStpW061",
        "outputId": "6f8ac80f-4f50-4910-fa04-2214817c19fe"
      },
      "source": [
        "record"
      ],
      "execution_count": null,
      "outputs": [
        {
          "output_type": "execute_result",
          "data": {
            "text/plain": [
              "{101: {'Best Before': '5 months',\n",
              "  'Company': 'Cadbury',\n",
              "  'Name': 'Fivestar',\n",
              "  'Price': 10,\n",
              "  'Quantity': 100},\n",
              " 102: {'Best Before': '5 months',\n",
              "  'Company': 'Cadbury',\n",
              "  'Name': 'Eclairs',\n",
              "  'Price': 1,\n",
              "  'Quantity': 500},\n",
              " 103: {'Best Before': '5 months',\n",
              "  'Company': 'Cadbury',\n",
              "  'Name': 'Diary Milk',\n",
              "  'Price': 20,\n",
              "  'Quantity': 200},\n",
              " 104: {'Best Before': '5 months',\n",
              "  'Company': 'PNG',\n",
              "  'Name': 'Bounty',\n",
              "  'Price': 50,\n",
              "  'Quantity': 100},\n",
              " 105: {'Best Before': '5 months',\n",
              "  'Company': 'Ferrero',\n",
              "  'Name': 'Kinder Joy',\n",
              "  'Price': 30,\n",
              "  'Quantity': 25},\n",
              " 106: {'Best Before': '5 months',\n",
              "  'Company': 'ITC',\n",
              "  'Name': 'Oreo',\n",
              "  'Price': 10,\n",
              "  'Quantity': 50},\n",
              " 107: {'Best Before': '5 months',\n",
              "  'Company': 'ITC',\n",
              "  'Name': 'Dark Fantasy',\n",
              "  'Price': 30,\n",
              "  'Quantity': 20},\n",
              " 108: {'Best Before': '5 months',\n",
              "  'Company': 'ITC',\n",
              "  'Name': 'Hide and Seek',\n",
              "  'Price': 10,\n",
              "  'Quantity': 20},\n",
              " 109: {'Best Before': '5 months',\n",
              "  'Company': 'ITC',\n",
              "  'Name': 'Gooday',\n",
              "  'Price': 10,\n",
              "  'Quantity': 20},\n",
              " 110: {'Best Before': '5 months',\n",
              "  'Company': 'ITC',\n",
              "  'Name': 'Parle G',\n",
              "  'Price': 5,\n",
              "  'Quantity': 20},\n",
              " 111: {'Best Before': '5 months',\n",
              "  'Company': 'Pillsbury',\n",
              "  'Name': 'Red velvet',\n",
              "  'Price': 40,\n",
              "  'Quantity': 1},\n",
              " 112: {'Best Before': 'NA',\n",
              "  'Company': 'Pillsbury',\n",
              "  'Name': 'Lavacake',\n",
              "  'Price': 35,\n",
              "  'Quantity': 1},\n",
              " 113: {'Best Before': 'NA',\n",
              "  'Company': 'Pillsbury',\n",
              "  'Name': 'Death by Chocolate',\n",
              "  'Price': 45,\n",
              "  'Quantity': 1},\n",
              " 114: {'Best Before': 'NA',\n",
              "  'Company': 'Pillsbury',\n",
              "  'Name': 'butterscotch',\n",
              "  'Price': 40,\n",
              "  'Quantity': 1},\n",
              " 115: {'Best Before': 'NA',\n",
              "  'Company': 'Pillsbury',\n",
              "  'Name': 'chocolatecake',\n",
              "  'Price': 35,\n",
              "  'Quantity': 1},\n",
              " 116: {'Best Before': '1 month',\n",
              "  'Company': 'ITC',\n",
              "  'Name': 'Lays',\n",
              "  'Price': 10,\n",
              "  'Quantity': 20},\n",
              " 117: {'Best Before': '1 month',\n",
              "  'Company': 'ITC',\n",
              "  'Name': 'kurkure',\n",
              "  'Price': 10,\n",
              "  'Quantity': 20},\n",
              " 118: {'Best Before': '1 month',\n",
              "  'Company': 'ITC',\n",
              "  'Name': 'bingo',\n",
              "  'Price': 10,\n",
              "  'Quantity': 20},\n",
              " 119: {'Best Before': '1 month',\n",
              "  'Company': 'ITC',\n",
              "  'Name': 'moongdhal',\n",
              "  'Price': 10,\n",
              "  'Quantity': 20},\n",
              " 120: {'Best Before': '1 month',\n",
              "  'Company': 'ITC',\n",
              "  'Name': 'littlehearts',\n",
              "  'Price': 5,\n",
              "  'Quantity': 15},\n",
              " 121: {'Best Before': '1 month',\n",
              "  'Company': 'ITC',\n",
              "  'Name': 'TooYum',\n",
              "  'Price': 10,\n",
              "  'Quantity': 15},\n",
              " 122: {'Best Before': 'NA',\n",
              "  'Company': 'Pillsbury',\n",
              "  'Name': 'Samosa',\n",
              "  'Price': 10,\n",
              "  'Quantity': 10},\n",
              " 123: {'Best Before': '1 month',\n",
              "  'Company': 'Nestle',\n",
              "  'Name': 'maggie',\n",
              "  'Price': 10,\n",
              "  'Quantity': 10},\n",
              " 124: {'Best Before': 'NA',\n",
              "  'Company': 'Pillsbury',\n",
              "  'Name': 'eggpuff',\n",
              "  'Price': 15,\n",
              "  'Quantity': 10},\n",
              " 125: {'Best Before': 'NA',\n",
              "  'Company': 'Pillsbury',\n",
              "  'Name': 'vegpuff',\n",
              "  'Price': 12,\n",
              "  'Quantity': 10},\n",
              " 126: {'Best Before': 'NA',\n",
              "  'Company': 'Pillsbury',\n",
              "  'Name': 'bread',\n",
              "  'Price': 25,\n",
              "  'Quantity': 5},\n",
              " 127: {'Best Before': 'NA',\n",
              "  'Company': 'Pillsbury',\n",
              "  'Name': 'sandwich',\n",
              "  'Price': 35,\n",
              "  'Quantity': 15},\n",
              " 128: {'Best Before': 'NA',\n",
              "  'Company': 'Amul',\n",
              "  'Name': 'icecream',\n",
              "  'Price': 50,\n",
              "  'Quantity': 50},\n",
              " 129: {'Best Before': 'NA',\n",
              "  'Company': 'Frootie',\n",
              "  'Name': 'juice',\n",
              "  'Price': 30,\n",
              "  'Quantity': 10},\n",
              " 130: {'Best Before': 'NA',\n",
              "  'Company': 'Pillsbury',\n",
              "  'Name': 'Buns',\n",
              "  'Price': 20,\n",
              "  'Quantity': 10}}"
            ]
          },
          "metadata": {},
          "execution_count": 2
        }
      ]
    },
    {
      "cell_type": "code",
      "metadata": {
        "id": "AqS0VLi5W4G6"
      },
      "source": [
        "import json\n",
        "\n",
        "js = json.dumps(record)"
      ],
      "execution_count": null,
      "outputs": []
    },
    {
      "cell_type": "code",
      "metadata": {
        "colab": {
          "base_uri": "https://localhost:8080/",
          "height": 171
        },
        "id": "3QL9pWcuXAvd",
        "outputId": "d48d3408-622d-40fc-d0a1-0297d40ebe94"
      },
      "source": [
        "js"
      ],
      "execution_count": null,
      "outputs": [
        {
          "output_type": "execute_result",
          "data": {
            "application/vnd.google.colaboratory.intrinsic+json": {
              "type": "string"
            },
            "text/plain": [
              "'{\"101\": {\"Name\": \"Fivestar\", \"Price\": 10, \"Quantity\": 100, \"Company\": \"Cadbury\", \"Best Before\": \"5 months\"}, \"102\": {\"Name\": \"Eclairs\", \"Price\": 1, \"Quantity\": 500, \"Company\": \"Cadbury\", \"Best Before\": \"5 months\"}, \"103\": {\"Name\": \"Diary Milk\", \"Price\": 20, \"Quantity\": 200, \"Company\": \"Cadbury\", \"Best Before\": \"5 months\"}, \"104\": {\"Name\": \"Bounty\", \"Price\": 50, \"Quantity\": 100, \"Company\": \"PNG\", \"Best Before\": \"5 months\"}, \"105\": {\"Name\": \"Kinder Joy\", \"Price\": 30, \"Quantity\": 25, \"Company\": \"Ferrero\", \"Best Before\": \"5 months\"}, \"106\": {\"Name\": \"Oreo\", \"Price\": 10, \"Quantity\": 50, \"Company\": \"ITC\", \"Best Before\": \"5 months\"}, \"107\": {\"Name\": \"Dark Fantasy\", \"Price\": 30, \"Quantity\": 20, \"Company\": \"ITC\", \"Best Before\": \"5 months\"}, \"108\": {\"Name\": \"Hide and Seek\", \"Price\": 10, \"Quantity\": 20, \"Company\": \"ITC\", \"Best Before\": \"5 months\"}, \"109\": {\"Name\": \"Gooday\", \"Price\": 10, \"Quantity\": 20, \"Company\": \"ITC\", \"Best Before\": \"5 months\"}, \"110\": {\"Name\": \"Parle G\", \"Price\": 5, \"Quantity\": 20, \"Company\": \"ITC\", \"Best Before\": \"5 months\"}, \"111\": {\"Name\": \"Red velvet\", \"Price\": 40, \"Quantity\": 1, \"Company\": \"Pillsbury\", \"Best Before\": \"5 months\"}, \"112\": {\"Name\": \"Lavacake\", \"Price\": 35, \"Quantity\": 1, \"Company\": \"Pillsbury\", \"Best Before\": \"NA\"}, \"113\": {\"Name\": \"Death by Chocolate\", \"Price\": 45, \"Quantity\": 1, \"Company\": \"Pillsbury\", \"Best Before\": \"NA\"}, \"114\": {\"Name\": \"butterscotch\", \"Price\": 40, \"Quantity\": 1, \"Company\": \"Pillsbury\", \"Best Before\": \"NA\"}, \"115\": {\"Name\": \"chocolatecake\", \"Price\": 35, \"Quantity\": 1, \"Company\": \"Pillsbury\", \"Best Before\": \"NA\"}, \"116\": {\"Name\": \"Lays\", \"Price\": 10, \"Quantity\": 20, \"Company\": \"ITC\", \"Best Before\": \"1 month\"}, \"117\": {\"Name\": \"kurkure\", \"Price\": 10, \"Quantity\": 20, \"Company\": \"ITC\", \"Best Before\": \"1 month\"}, \"118\": {\"Name\": \"bingo\", \"Price\": 10, \"Quantity\": 20, \"Company\": \"ITC\", \"Best Before\": \"1 month\"}, \"119\": {\"Name\": \"moongdhal\", \"Price\": 10, \"Quantity\": 20, \"Company\": \"ITC\", \"Best Before\": \"1 month\"}, \"120\": {\"Name\": \"littlehearts\", \"Price\": 5, \"Quantity\": 15, \"Company\": \"ITC\", \"Best Before\": \"1 month\"}, \"121\": {\"Name\": \"TooYum\", \"Price\": 10, \"Quantity\": 15, \"Company\": \"ITC\", \"Best Before\": \"1 month\"}, \"122\": {\"Name\": \"Samosa\", \"Price\": 10, \"Quantity\": 10, \"Company\": \"Pillsbury\", \"Best Before\": \"NA\"}, \"123\": {\"Name\": \"maggie\", \"Price\": 10, \"Quantity\": 10, \"Company\": \"Nestle\", \"Best Before\": \"1 month\"}, \"124\": {\"Name\": \"eggpuff\", \"Price\": 15, \"Quantity\": 10, \"Company\": \"Pillsbury\", \"Best Before\": \"NA\"}, \"125\": {\"Name\": \"vegpuff\", \"Price\": 12, \"Quantity\": 10, \"Company\": \"Pillsbury\", \"Best Before\": \"NA\"}, \"126\": {\"Name\": \"bread\", \"Price\": 25, \"Quantity\": 5, \"Company\": \"Pillsbury\", \"Best Before\": \"NA\"}, \"127\": {\"Name\": \"sandwich\", \"Price\": 35, \"Quantity\": 15, \"Company\": \"Pillsbury\", \"Best Before\": \"NA\"}, \"128\": {\"Name\": \"icecream\", \"Price\": 50, \"Quantity\": 50, \"Company\": \"Amul\", \"Best Before\": \"NA\"}, \"129\": {\"Name\": \"juice\", \"Price\": 30, \"Quantity\": 10, \"Company\": \"Frootie\", \"Best Before\": \"NA\"}, \"130\": {\"Name\": \"Buns\", \"Price\": 20, \"Quantity\": 10, \"Company\": \"Pillsbury\", \"Best Before\": \"NA\"}}'"
            ]
          },
          "metadata": {},
          "execution_count": 4
        }
      ]
    },
    {
      "cell_type": "code",
      "metadata": {
        "id": "SpAgObqrXC_d"
      },
      "source": [
        "fd = open(\"record.json\",'w')\n",
        "fd.write(js)\n",
        "fd.close()"
      ],
      "execution_count": null,
      "outputs": []
    },
    {
      "cell_type": "code",
      "metadata": {
        "id": "HPlCJBNJXJD0"
      },
      "source": [
        "file = open(\"record.json\",'r')\n",
        "r = file.read()\n",
        "file.close()\n",
        "\n",
        "record = json.loads(r)"
      ],
      "execution_count": null,
      "outputs": []
    },
    {
      "cell_type": "markdown",
      "metadata": {
        "id": "h-ClJE9dXNJa"
      },
      "source": [
        "# Adding new products"
      ]
    },
    {
      "cell_type": "code",
      "metadata": {
        "colab": {
          "base_uri": "https://localhost:8080/"
        },
        "id": "oRQtTM71XvYk",
        "outputId": "caabb5c4-6b83-4ccb-a59a-c28b073d657e"
      },
      "source": [
        "prod_id = input(\"Enter product id: \")\n",
        "name = str(input(\"Enter product name: \"))\n",
        "price = str(input(\"Enter product price: \"))\n",
        "quantity = int(input(\"Enter quantity: \"))\n",
        "company = str(input(\"Enter Company name: \"))\n",
        "best_before = str(input(\"Enter best before: \"))\n",
        "record[prod_id] = {\"Name\":name,\"Price\":price,\"Quantity\":quantity,\"Company\":company,\"Best Before\":best_before}\n",
        "js = json.dumps(record)\n",
        "fd = open(\"record.json\",'w') \n",
        "fd.write(js)\n",
        "fd.close()"
      ],
      "execution_count": null,
      "outputs": [
        {
          "name": "stdout",
          "output_type": "stream",
          "text": [
            "Enter product id: 131\n",
            "Enter product name: perk\n",
            "Enter product price: 10\n",
            "Enter quantity: 25\n",
            "Enter Company name: nestle\n",
            "Enter best before: 1 month\n"
          ]
        }
      ]
    },
    {
      "cell_type": "code",
      "metadata": {
        "colab": {
          "base_uri": "https://localhost:8080/"
        },
        "id": "fqVZjqdaYBWc",
        "outputId": "bef9bbb1-bb69-47d7-b7f6-16813c0fc214"
      },
      "source": [
        "record"
      ],
      "execution_count": null,
      "outputs": [
        {
          "output_type": "execute_result",
          "data": {
            "text/plain": [
              "{'101': {'Best Before': '5 months',\n",
              "  'Company': 'Cadbury',\n",
              "  'Name': 'Fivestar',\n",
              "  'Price': 10,\n",
              "  'Quantity': 100},\n",
              " '102': {'Best Before': '5 months',\n",
              "  'Company': 'Cadbury',\n",
              "  'Name': 'Eclairs',\n",
              "  'Price': 1,\n",
              "  'Quantity': 500},\n",
              " '103': {'Best Before': '5 months',\n",
              "  'Company': 'Cadbury',\n",
              "  'Name': 'Diary Milk',\n",
              "  'Price': 20,\n",
              "  'Quantity': 200},\n",
              " '104': {'Best Before': '5 months',\n",
              "  'Company': 'PNG',\n",
              "  'Name': 'Bounty',\n",
              "  'Price': 50,\n",
              "  'Quantity': 100},\n",
              " '105': {'Best Before': '5 months',\n",
              "  'Company': 'Ferrero',\n",
              "  'Name': 'Kinder Joy',\n",
              "  'Price': 30,\n",
              "  'Quantity': 25},\n",
              " '106': {'Best Before': '5 months',\n",
              "  'Company': 'ITC',\n",
              "  'Name': 'Oreo',\n",
              "  'Price': 10,\n",
              "  'Quantity': 50},\n",
              " '107': {'Best Before': '5 months',\n",
              "  'Company': 'ITC',\n",
              "  'Name': 'Dark Fantasy',\n",
              "  'Price': 30,\n",
              "  'Quantity': 20},\n",
              " '108': {'Best Before': '5 months',\n",
              "  'Company': 'ITC',\n",
              "  'Name': 'Hide and Seek',\n",
              "  'Price': 10,\n",
              "  'Quantity': 20},\n",
              " '109': {'Best Before': '5 months',\n",
              "  'Company': 'ITC',\n",
              "  'Name': 'Gooday',\n",
              "  'Price': 10,\n",
              "  'Quantity': 20},\n",
              " '110': {'Best Before': '5 months',\n",
              "  'Company': 'ITC',\n",
              "  'Name': 'Parle G',\n",
              "  'Price': 5,\n",
              "  'Quantity': 20},\n",
              " '111': {'Best Before': '5 months',\n",
              "  'Company': 'Pillsbury',\n",
              "  'Name': 'Red velvet',\n",
              "  'Price': 40,\n",
              "  'Quantity': 1},\n",
              " '112': {'Best Before': 'NA',\n",
              "  'Company': 'Pillsbury',\n",
              "  'Name': 'Lavacake',\n",
              "  'Price': 35,\n",
              "  'Quantity': 1},\n",
              " '113': {'Best Before': 'NA',\n",
              "  'Company': 'Pillsbury',\n",
              "  'Name': 'Death by Chocolate',\n",
              "  'Price': 45,\n",
              "  'Quantity': 1},\n",
              " '114': {'Best Before': 'NA',\n",
              "  'Company': 'Pillsbury',\n",
              "  'Name': 'butterscotch',\n",
              "  'Price': 40,\n",
              "  'Quantity': 1},\n",
              " '115': {'Best Before': 'NA',\n",
              "  'Company': 'Pillsbury',\n",
              "  'Name': 'chocolatecake',\n",
              "  'Price': 35,\n",
              "  'Quantity': 1},\n",
              " '116': {'Best Before': '1 month',\n",
              "  'Company': 'ITC',\n",
              "  'Name': 'Lays',\n",
              "  'Price': 10,\n",
              "  'Quantity': 20},\n",
              " '117': {'Best Before': '1 month',\n",
              "  'Company': 'ITC',\n",
              "  'Name': 'kurkure',\n",
              "  'Price': 10,\n",
              "  'Quantity': 20},\n",
              " '118': {'Best Before': '1 month',\n",
              "  'Company': 'ITC',\n",
              "  'Name': 'bingo',\n",
              "  'Price': 10,\n",
              "  'Quantity': 20},\n",
              " '119': {'Best Before': '1 month',\n",
              "  'Company': 'ITC',\n",
              "  'Name': 'moongdhal',\n",
              "  'Price': 10,\n",
              "  'Quantity': 20},\n",
              " '120': {'Best Before': '1 month',\n",
              "  'Company': 'ITC',\n",
              "  'Name': 'littlehearts',\n",
              "  'Price': 5,\n",
              "  'Quantity': 15},\n",
              " '121': {'Best Before': '1 month',\n",
              "  'Company': 'ITC',\n",
              "  'Name': 'TooYum',\n",
              "  'Price': 10,\n",
              "  'Quantity': 15},\n",
              " '122': {'Best Before': 'NA',\n",
              "  'Company': 'Pillsbury',\n",
              "  'Name': 'Samosa',\n",
              "  'Price': 10,\n",
              "  'Quantity': 10},\n",
              " '123': {'Best Before': '1 month',\n",
              "  'Company': 'Nestle',\n",
              "  'Name': 'maggie',\n",
              "  'Price': 10,\n",
              "  'Quantity': 10},\n",
              " '124': {'Best Before': 'NA',\n",
              "  'Company': 'Pillsbury',\n",
              "  'Name': 'eggpuff',\n",
              "  'Price': 15,\n",
              "  'Quantity': 10},\n",
              " '125': {'Best Before': 'NA',\n",
              "  'Company': 'Pillsbury',\n",
              "  'Name': 'vegpuff',\n",
              "  'Price': 12,\n",
              "  'Quantity': 10},\n",
              " '126': {'Best Before': 'NA',\n",
              "  'Company': 'Pillsbury',\n",
              "  'Name': 'bread',\n",
              "  'Price': 25,\n",
              "  'Quantity': 5},\n",
              " '127': {'Best Before': 'NA',\n",
              "  'Company': 'Pillsbury',\n",
              "  'Name': 'sandwich',\n",
              "  'Price': 35,\n",
              "  'Quantity': 15},\n",
              " '128': {'Best Before': 'NA',\n",
              "  'Company': 'Amul',\n",
              "  'Name': 'icecream',\n",
              "  'Price': 50,\n",
              "  'Quantity': 50},\n",
              " '129': {'Best Before': 'NA',\n",
              "  'Company': 'Frootie',\n",
              "  'Name': 'juice',\n",
              "  'Price': 30,\n",
              "  'Quantity': 10},\n",
              " '130': {'Best Before': 'NA',\n",
              "  'Company': 'Pillsbury',\n",
              "  'Name': 'Buns',\n",
              "  'Price': 20,\n",
              "  'Quantity': 10},\n",
              " '131': {'Best Before': '1 month',\n",
              "  'Company': 'nestle',\n",
              "  'Name': 'perk',\n",
              "  'Price': '10',\n",
              "  'Quantity': 25}}"
            ]
          },
          "metadata": {},
          "execution_count": 8
        }
      ]
    },
    {
      "cell_type": "markdown",
      "metadata": {
        "id": "eGuFsEj5YIhS"
      },
      "source": [
        "# Adding Multiple Product\n"
      ]
    },
    {
      "cell_type": "code",
      "metadata": {
        "colab": {
          "base_uri": "https://localhost:8080/"
        },
        "id": "_5DWk5U6YREE",
        "outputId": "17677747-8078-44f6-c50f-78b597d1b1b4"
      },
      "source": [
        "n = int(input(\"Enter the number of products to be added: \"))\n",
        "for i in range(n):\n",
        "  prod_id = input(\"Enter product id: \")\n",
        "  name = str(input(\"Enter product name: \"))\n",
        "  price = str(input(\"Enter product price: \"))\n",
        "  quantity = int(input(\"Enter quantity: \"))\n",
        "  company = str(input(\"Enter Company name: \"))\n",
        "  best_before = str(input(\"Enter best before: \"))\n",
        "  record[prod_id] = {\"Name\":name,\"Price\":price,\"Quantity\":quantity,\"Company\":company,\"Best Before\":best_before}\n",
        "  js = json.dumps(record)\n",
        "  fd = open(\"record.json\",'w') \n",
        "  fd.write(js)\n",
        "  fd.close()"
      ],
      "execution_count": null,
      "outputs": [
        {
          "name": "stdout",
          "output_type": "stream",
          "text": [
            "Enter the number of products to be added: 2\n",
            "Enter product id: 132\n",
            "Enter product name: complan\n",
            "Enter product price: 200\n",
            "Enter quantity: 30\n",
            "Enter Company name: growmore\n",
            "Enter best before: 6 months\n",
            "Enter product id: 133\n",
            "Enter product name: horlicks\n",
            "Enter product price: 199\n",
            "Enter quantity: 20\n",
            "Enter Company name: horlicks\n",
            "Enter best before: 5 month\n"
          ]
        }
      ]
    },
    {
      "cell_type": "code",
      "metadata": {
        "id": "QLi1XzcnYz6o"
      },
      "source": [
        "file = open(\"record.json\",'r')\n",
        "r = file.read()\n",
        "file.close()\n",
        "record = json.loads(r)"
      ],
      "execution_count": null,
      "outputs": []
    },
    {
      "cell_type": "code",
      "metadata": {
        "colab": {
          "base_uri": "https://localhost:8080/"
        },
        "id": "RK6m1pVOY52H",
        "outputId": "90546b4c-69b1-43ac-dcd3-666fc57b47a4"
      },
      "source": [
        "record"
      ],
      "execution_count": null,
      "outputs": [
        {
          "output_type": "execute_result",
          "data": {
            "text/plain": [
              "{'101': {'Best Before': '5 months',\n",
              "  'Company': 'Cadbury',\n",
              "  'Name': 'Fivestar',\n",
              "  'Price': 10,\n",
              "  'Quantity': 100},\n",
              " '102': {'Best Before': '5 months',\n",
              "  'Company': 'Cadbury',\n",
              "  'Name': 'Eclairs',\n",
              "  'Price': 1,\n",
              "  'Quantity': 500},\n",
              " '103': {'Best Before': '5 months',\n",
              "  'Company': 'Cadbury',\n",
              "  'Name': 'Diary Milk',\n",
              "  'Price': 20,\n",
              "  'Quantity': 200},\n",
              " '104': {'Best Before': '5 months',\n",
              "  'Company': 'PNG',\n",
              "  'Name': 'Bounty',\n",
              "  'Price': 50,\n",
              "  'Quantity': 100},\n",
              " '105': {'Best Before': '5 months',\n",
              "  'Company': 'Ferrero',\n",
              "  'Name': 'Kinder Joy',\n",
              "  'Price': 30,\n",
              "  'Quantity': 25},\n",
              " '106': {'Best Before': '5 months',\n",
              "  'Company': 'ITC',\n",
              "  'Name': 'Oreo',\n",
              "  'Price': 10,\n",
              "  'Quantity': 50},\n",
              " '107': {'Best Before': '5 months',\n",
              "  'Company': 'ITC',\n",
              "  'Name': 'Dark Fantasy',\n",
              "  'Price': 30,\n",
              "  'Quantity': 20},\n",
              " '108': {'Best Before': '5 months',\n",
              "  'Company': 'ITC',\n",
              "  'Name': 'Hide and Seek',\n",
              "  'Price': 10,\n",
              "  'Quantity': 20},\n",
              " '109': {'Best Before': '5 months',\n",
              "  'Company': 'ITC',\n",
              "  'Name': 'Gooday',\n",
              "  'Price': 10,\n",
              "  'Quantity': 20},\n",
              " '110': {'Best Before': '5 months',\n",
              "  'Company': 'ITC',\n",
              "  'Name': 'Parle G',\n",
              "  'Price': 5,\n",
              "  'Quantity': 20},\n",
              " '111': {'Best Before': '5 months',\n",
              "  'Company': 'Pillsbury',\n",
              "  'Name': 'Red velvet',\n",
              "  'Price': 40,\n",
              "  'Quantity': 1},\n",
              " '112': {'Best Before': 'NA',\n",
              "  'Company': 'Pillsbury',\n",
              "  'Name': 'Lavacake',\n",
              "  'Price': 35,\n",
              "  'Quantity': 1},\n",
              " '113': {'Best Before': 'NA',\n",
              "  'Company': 'Pillsbury',\n",
              "  'Name': 'Death by Chocolate',\n",
              "  'Price': 45,\n",
              "  'Quantity': 1},\n",
              " '114': {'Best Before': 'NA',\n",
              "  'Company': 'Pillsbury',\n",
              "  'Name': 'butterscotch',\n",
              "  'Price': 40,\n",
              "  'Quantity': 1},\n",
              " '115': {'Best Before': 'NA',\n",
              "  'Company': 'Pillsbury',\n",
              "  'Name': 'chocolatecake',\n",
              "  'Price': 35,\n",
              "  'Quantity': 1},\n",
              " '116': {'Best Before': '1 month',\n",
              "  'Company': 'ITC',\n",
              "  'Name': 'Lays',\n",
              "  'Price': 10,\n",
              "  'Quantity': 20},\n",
              " '117': {'Best Before': '1 month',\n",
              "  'Company': 'ITC',\n",
              "  'Name': 'kurkure',\n",
              "  'Price': 10,\n",
              "  'Quantity': 20},\n",
              " '118': {'Best Before': '1 month',\n",
              "  'Company': 'ITC',\n",
              "  'Name': 'bingo',\n",
              "  'Price': 10,\n",
              "  'Quantity': 20},\n",
              " '119': {'Best Before': '1 month',\n",
              "  'Company': 'ITC',\n",
              "  'Name': 'moongdhal',\n",
              "  'Price': 10,\n",
              "  'Quantity': 20},\n",
              " '120': {'Best Before': '1 month',\n",
              "  'Company': 'ITC',\n",
              "  'Name': 'littlehearts',\n",
              "  'Price': 5,\n",
              "  'Quantity': 15},\n",
              " '121': {'Best Before': '1 month',\n",
              "  'Company': 'ITC',\n",
              "  'Name': 'TooYum',\n",
              "  'Price': 10,\n",
              "  'Quantity': 15},\n",
              " '122': {'Best Before': 'NA',\n",
              "  'Company': 'Pillsbury',\n",
              "  'Name': 'Samosa',\n",
              "  'Price': 10,\n",
              "  'Quantity': 10},\n",
              " '123': {'Best Before': '1 month',\n",
              "  'Company': 'Nestle',\n",
              "  'Name': 'maggie',\n",
              "  'Price': 10,\n",
              "  'Quantity': 10},\n",
              " '124': {'Best Before': 'NA',\n",
              "  'Company': 'Pillsbury',\n",
              "  'Name': 'eggpuff',\n",
              "  'Price': 15,\n",
              "  'Quantity': 10},\n",
              " '125': {'Best Before': 'NA',\n",
              "  'Company': 'Pillsbury',\n",
              "  'Name': 'vegpuff',\n",
              "  'Price': 12,\n",
              "  'Quantity': 10},\n",
              " '126': {'Best Before': 'NA',\n",
              "  'Company': 'Pillsbury',\n",
              "  'Name': 'bread',\n",
              "  'Price': 25,\n",
              "  'Quantity': 5},\n",
              " '127': {'Best Before': 'NA',\n",
              "  'Company': 'Pillsbury',\n",
              "  'Name': 'sandwich',\n",
              "  'Price': 35,\n",
              "  'Quantity': 15},\n",
              " '128': {'Best Before': 'NA',\n",
              "  'Company': 'Amul',\n",
              "  'Name': 'icecream',\n",
              "  'Price': 50,\n",
              "  'Quantity': 50},\n",
              " '129': {'Best Before': 'NA',\n",
              "  'Company': 'Frootie',\n",
              "  'Name': 'juice',\n",
              "  'Price': 30,\n",
              "  'Quantity': 10},\n",
              " '130': {'Best Before': 'NA',\n",
              "  'Company': 'Pillsbury',\n",
              "  'Name': 'Buns',\n",
              "  'Price': 20,\n",
              "  'Quantity': 10},\n",
              " '131': {'Best Before': '1 month',\n",
              "  'Company': 'nestle',\n",
              "  'Name': 'perk',\n",
              "  'Price': '10',\n",
              "  'Quantity': 25},\n",
              " '132': {'Best Before': '6 months',\n",
              "  'Company': 'growmore',\n",
              "  'Name': 'complan',\n",
              "  'Price': '200',\n",
              "  'Quantity': 30},\n",
              " '133': {'Best Before': '5 month',\n",
              "  'Company': 'horlicks',\n",
              "  'Name': 'horlicks',\n",
              "  'Price': '199',\n",
              "  'Quantity': 20}}"
            ]
          },
          "metadata": {},
          "execution_count": 12
        }
      ]
    },
    {
      "cell_type": "code",
      "metadata": {
        "id": "39gbV4b6Y7lQ"
      },
      "source": [
        ""
      ],
      "execution_count": null,
      "outputs": []
    },
    {
      "cell_type": "markdown",
      "metadata": {
        "id": "H0K3--19ZEjq"
      },
      "source": [
        "# Deleting the PRODUCT"
      ]
    },
    {
      "cell_type": "code",
      "metadata": {
        "colab": {
          "base_uri": "https://localhost:8080/"
        },
        "id": "Egmc5uK3S_-T",
        "outputId": "eaf5821f-bc49-432b-dfd2-ef417865aa5d"
      },
      "source": [
        "id = str(input(\"Enter the product id to delete: \"))\n",
        "if id in record:\n",
        "  del record[id]\n",
        "  print(\"\\nSuccessfully Deleted \",id)\n",
        "else:\n",
        "  print(\"Invalid ID\")"
      ],
      "execution_count": null,
      "outputs": [
        {
          "output_type": "stream",
          "name": "stdout",
          "text": [
            "Enter the product id to delete: 131\n",
            "\n",
            "Successfully Deleted  131\n"
          ]
        }
      ]
    },
    {
      "cell_type": "code",
      "metadata": {
        "colab": {
          "base_uri": "https://localhost:8080/"
        },
        "id": "JQ3RBPCOZT0R",
        "outputId": "5a8dad04-dfbd-4058-ece0-35fc841c68ba"
      },
      "source": [
        "record"
      ],
      "execution_count": null,
      "outputs": [
        {
          "output_type": "execute_result",
          "data": {
            "text/plain": [
              "{'101': {'Best Before': '5 months',\n",
              "  'Company': 'Cadbury',\n",
              "  'Name': 'Fivestar',\n",
              "  'Price': 10,\n",
              "  'Quantity': 100},\n",
              " '102': {'Best Before': '5 months',\n",
              "  'Company': 'Cadbury',\n",
              "  'Name': 'Eclairs',\n",
              "  'Price': 1,\n",
              "  'Quantity': 500},\n",
              " '103': {'Best Before': '5 months',\n",
              "  'Company': 'Cadbury',\n",
              "  'Name': 'Diary Milk',\n",
              "  'Price': 20,\n",
              "  'Quantity': 200},\n",
              " '104': {'Best Before': '5 months',\n",
              "  'Company': 'PNG',\n",
              "  'Name': 'Bounty',\n",
              "  'Price': 50,\n",
              "  'Quantity': 100},\n",
              " '105': {'Best Before': '5 months',\n",
              "  'Company': 'Ferrero',\n",
              "  'Name': 'Kinder Joy',\n",
              "  'Price': 30,\n",
              "  'Quantity': 25},\n",
              " '106': {'Best Before': '5 months',\n",
              "  'Company': 'ITC',\n",
              "  'Name': 'Oreo',\n",
              "  'Price': 10,\n",
              "  'Quantity': 50},\n",
              " '107': {'Best Before': '5 months',\n",
              "  'Company': 'ITC',\n",
              "  'Name': 'Dark Fantasy',\n",
              "  'Price': 30,\n",
              "  'Quantity': 20},\n",
              " '108': {'Best Before': '5 months',\n",
              "  'Company': 'ITC',\n",
              "  'Name': 'Hide and Seek',\n",
              "  'Price': 10,\n",
              "  'Quantity': 20},\n",
              " '109': {'Best Before': '5 months',\n",
              "  'Company': 'ITC',\n",
              "  'Name': 'Gooday',\n",
              "  'Price': 10,\n",
              "  'Quantity': 20},\n",
              " '110': {'Best Before': '5 months',\n",
              "  'Company': 'ITC',\n",
              "  'Name': 'Parle G',\n",
              "  'Price': 5,\n",
              "  'Quantity': 20},\n",
              " '111': {'Best Before': '5 months',\n",
              "  'Company': 'Pillsbury',\n",
              "  'Name': 'Red velvet',\n",
              "  'Price': 40,\n",
              "  'Quantity': 1},\n",
              " '112': {'Best Before': 'NA',\n",
              "  'Company': 'Pillsbury',\n",
              "  'Name': 'Lavacake',\n",
              "  'Price': 35,\n",
              "  'Quantity': 1},\n",
              " '113': {'Best Before': 'NA',\n",
              "  'Company': 'Pillsbury',\n",
              "  'Name': 'Death by Chocolate',\n",
              "  'Price': 45,\n",
              "  'Quantity': 1},\n",
              " '114': {'Best Before': 'NA',\n",
              "  'Company': 'Pillsbury',\n",
              "  'Name': 'butterscotch',\n",
              "  'Price': 40,\n",
              "  'Quantity': 1},\n",
              " '115': {'Best Before': 'NA',\n",
              "  'Company': 'Pillsbury',\n",
              "  'Name': 'chocolatecake',\n",
              "  'Price': 35,\n",
              "  'Quantity': 1},\n",
              " '116': {'Best Before': '1 month',\n",
              "  'Company': 'ITC',\n",
              "  'Name': 'Lays',\n",
              "  'Price': 10,\n",
              "  'Quantity': 20},\n",
              " '117': {'Best Before': '1 month',\n",
              "  'Company': 'ITC',\n",
              "  'Name': 'kurkure',\n",
              "  'Price': 10,\n",
              "  'Quantity': 20},\n",
              " '118': {'Best Before': '1 month',\n",
              "  'Company': 'ITC',\n",
              "  'Name': 'bingo',\n",
              "  'Price': 10,\n",
              "  'Quantity': 20},\n",
              " '119': {'Best Before': '1 month',\n",
              "  'Company': 'ITC',\n",
              "  'Name': 'moongdhal',\n",
              "  'Price': 10,\n",
              "  'Quantity': 20},\n",
              " '120': {'Best Before': '1 month',\n",
              "  'Company': 'ITC',\n",
              "  'Name': 'littlehearts',\n",
              "  'Price': 5,\n",
              "  'Quantity': 15},\n",
              " '121': {'Best Before': '1 month',\n",
              "  'Company': 'ITC',\n",
              "  'Name': 'TooYum',\n",
              "  'Price': 10,\n",
              "  'Quantity': 15},\n",
              " '122': {'Best Before': 'NA',\n",
              "  'Company': 'Pillsbury',\n",
              "  'Name': 'Samosa',\n",
              "  'Price': 10,\n",
              "  'Quantity': 10},\n",
              " '123': {'Best Before': '1 month',\n",
              "  'Company': 'Nestle',\n",
              "  'Name': 'maggie',\n",
              "  'Price': 10,\n",
              "  'Quantity': 10},\n",
              " '124': {'Best Before': 'NA',\n",
              "  'Company': 'Pillsbury',\n",
              "  'Name': 'eggpuff',\n",
              "  'Price': 15,\n",
              "  'Quantity': 10},\n",
              " '125': {'Best Before': 'NA',\n",
              "  'Company': 'Pillsbury',\n",
              "  'Name': 'vegpuff',\n",
              "  'Price': 12,\n",
              "  'Quantity': 10},\n",
              " '126': {'Best Before': 'NA',\n",
              "  'Company': 'Pillsbury',\n",
              "  'Name': 'bread',\n",
              "  'Price': 25,\n",
              "  'Quantity': 5},\n",
              " '127': {'Best Before': 'NA',\n",
              "  'Company': 'Pillsbury',\n",
              "  'Name': 'sandwich',\n",
              "  'Price': 35,\n",
              "  'Quantity': 15},\n",
              " '128': {'Best Before': 'NA',\n",
              "  'Company': 'Amul',\n",
              "  'Name': 'icecream',\n",
              "  'Price': 50,\n",
              "  'Quantity': 50},\n",
              " '129': {'Best Before': 'NA',\n",
              "  'Company': 'Frootie',\n",
              "  'Name': 'juice',\n",
              "  'Price': 30,\n",
              "  'Quantity': 10},\n",
              " '130': {'Best Before': 'NA',\n",
              "  'Company': 'Pillsbury',\n",
              "  'Name': 'Buns',\n",
              "  'Price': 20,\n",
              "  'Quantity': 10},\n",
              " '132': {'Best Before': '6 months',\n",
              "  'Company': 'growmore',\n",
              "  'Name': 'complan',\n",
              "  'Price': '200',\n",
              "  'Quantity': 30},\n",
              " '133': {'Best Before': '5 month',\n",
              "  'Company': 'horlicks',\n",
              "  'Name': 'horlicks',\n",
              "  'Price': '199',\n",
              "  'Quantity': 20}}"
            ]
          },
          "metadata": {},
          "execution_count": 14
        }
      ]
    },
    {
      "cell_type": "code",
      "metadata": {
        "id": "3N6MZXuEZXpD"
      },
      "source": [
        ""
      ],
      "execution_count": null,
      "outputs": []
    },
    {
      "cell_type": "markdown",
      "metadata": {
        "id": "-jlHjnBXZbx_"
      },
      "source": [
        "# Updating the Product Details"
      ]
    },
    {
      "cell_type": "code",
      "metadata": {
        "colab": {
          "base_uri": "https://localhost:8080/"
        },
        "id": "rpKwSoq1Zj7z",
        "outputId": "7d9de191-08ef-4678-f963-cd7f98f953b1"
      },
      "source": [
        "prod_id = input(\"Enter product id to update: \")\n",
        "print(\"\\nEnter new details\\n\")\n",
        "name = str(input(\"Enter product name: \"))\n",
        "price = str(input(\"Enter product price: \"))\n",
        "quantity = int(input(\"Enter quantity: \"))\n",
        "company = str(input(\"Enter Company name: \"))\n",
        "best_before = str(input(\"Enter best before: \"))\n",
        "record[prod_id] = {\"Name\":name,\"Price\":price,\"Quantity\":quantity,\"Company\":company,\"Best Before\":best_before}\n",
        "js = json.dumps(record)\n",
        "fd = open(\"record.json\",'w') \n",
        "fd.write(js)\n",
        "fd.close()\n",
        "print(\"\\nSuccessfully updated\")"
      ],
      "execution_count": null,
      "outputs": [
        {
          "output_type": "stream",
          "name": "stdout",
          "text": [
            "Enter product id to update: 131\n",
            "\n",
            "Enter new details\n",
            "\n",
            "Enter product name: calendar\n",
            "Enter product price: 20\n",
            "Enter quantity: 100\n",
            "Enter Company name: sharada\n",
            "Enter best before: 1 year\n",
            "\n",
            "Successfully updated\n"
          ]
        }
      ]
    },
    {
      "cell_type": "code",
      "metadata": {
        "colab": {
          "base_uri": "https://localhost:8080/"
        },
        "id": "pffOtFjSZ1zm",
        "outputId": "0b0b330a-2e3a-4b9e-d34f-65d08bd0581e"
      },
      "source": [
        "record\n"
      ],
      "execution_count": null,
      "outputs": [
        {
          "output_type": "execute_result",
          "data": {
            "text/plain": [
              "{'101': {'Best Before': '5 months',\n",
              "  'Company': 'Cadbury',\n",
              "  'Name': 'Fivestar',\n",
              "  'Price': 10,\n",
              "  'Quantity': 100},\n",
              " '102': {'Best Before': '5 months',\n",
              "  'Company': 'Cadbury',\n",
              "  'Name': 'Eclairs',\n",
              "  'Price': 1,\n",
              "  'Quantity': 500},\n",
              " '103': {'Best Before': '5 months',\n",
              "  'Company': 'Cadbury',\n",
              "  'Name': 'Diary Milk',\n",
              "  'Price': 20,\n",
              "  'Quantity': 200},\n",
              " '104': {'Best Before': '5 months',\n",
              "  'Company': 'PNG',\n",
              "  'Name': 'Bounty',\n",
              "  'Price': 50,\n",
              "  'Quantity': 100},\n",
              " '105': {'Best Before': '5 months',\n",
              "  'Company': 'Ferrero',\n",
              "  'Name': 'Kinder Joy',\n",
              "  'Price': 30,\n",
              "  'Quantity': 25},\n",
              " '106': {'Best Before': '5 months',\n",
              "  'Company': 'ITC',\n",
              "  'Name': 'Oreo',\n",
              "  'Price': 10,\n",
              "  'Quantity': 50},\n",
              " '107': {'Best Before': '5 months',\n",
              "  'Company': 'ITC',\n",
              "  'Name': 'Dark Fantasy',\n",
              "  'Price': 30,\n",
              "  'Quantity': 20},\n",
              " '108': {'Best Before': '5 months',\n",
              "  'Company': 'ITC',\n",
              "  'Name': 'Hide and Seek',\n",
              "  'Price': 10,\n",
              "  'Quantity': 20},\n",
              " '109': {'Best Before': '5 months',\n",
              "  'Company': 'ITC',\n",
              "  'Name': 'Gooday',\n",
              "  'Price': 10,\n",
              "  'Quantity': 20},\n",
              " '110': {'Best Before': '5 months',\n",
              "  'Company': 'ITC',\n",
              "  'Name': 'Parle G',\n",
              "  'Price': 5,\n",
              "  'Quantity': 20},\n",
              " '111': {'Best Before': '5 months',\n",
              "  'Company': 'Pillsbury',\n",
              "  'Name': 'Red velvet',\n",
              "  'Price': 40,\n",
              "  'Quantity': 1},\n",
              " '112': {'Best Before': 'NA',\n",
              "  'Company': 'Pillsbury',\n",
              "  'Name': 'Lavacake',\n",
              "  'Price': 35,\n",
              "  'Quantity': 1},\n",
              " '113': {'Best Before': 'NA',\n",
              "  'Company': 'Pillsbury',\n",
              "  'Name': 'Death by Chocolate',\n",
              "  'Price': 45,\n",
              "  'Quantity': 1},\n",
              " '114': {'Best Before': 'NA',\n",
              "  'Company': 'Pillsbury',\n",
              "  'Name': 'butterscotch',\n",
              "  'Price': 40,\n",
              "  'Quantity': 1},\n",
              " '115': {'Best Before': 'NA',\n",
              "  'Company': 'Pillsbury',\n",
              "  'Name': 'chocolatecake',\n",
              "  'Price': 35,\n",
              "  'Quantity': 1},\n",
              " '116': {'Best Before': '1 month',\n",
              "  'Company': 'ITC',\n",
              "  'Name': 'Lays',\n",
              "  'Price': 10,\n",
              "  'Quantity': 20},\n",
              " '117': {'Best Before': '1 month',\n",
              "  'Company': 'ITC',\n",
              "  'Name': 'kurkure',\n",
              "  'Price': 10,\n",
              "  'Quantity': 20},\n",
              " '118': {'Best Before': '1 month',\n",
              "  'Company': 'ITC',\n",
              "  'Name': 'bingo',\n",
              "  'Price': 10,\n",
              "  'Quantity': 20},\n",
              " '119': {'Best Before': '1 month',\n",
              "  'Company': 'ITC',\n",
              "  'Name': 'moongdhal',\n",
              "  'Price': 10,\n",
              "  'Quantity': 20},\n",
              " '120': {'Best Before': '1 month',\n",
              "  'Company': 'ITC',\n",
              "  'Name': 'littlehearts',\n",
              "  'Price': 5,\n",
              "  'Quantity': 15},\n",
              " '121': {'Best Before': '1 month',\n",
              "  'Company': 'ITC',\n",
              "  'Name': 'TooYum',\n",
              "  'Price': 10,\n",
              "  'Quantity': 15},\n",
              " '122': {'Best Before': 'NA',\n",
              "  'Company': 'Pillsbury',\n",
              "  'Name': 'Samosa',\n",
              "  'Price': 10,\n",
              "  'Quantity': 10},\n",
              " '123': {'Best Before': '1 month',\n",
              "  'Company': 'Nestle',\n",
              "  'Name': 'maggie',\n",
              "  'Price': 10,\n",
              "  'Quantity': 10},\n",
              " '124': {'Best Before': 'NA',\n",
              "  'Company': 'Pillsbury',\n",
              "  'Name': 'eggpuff',\n",
              "  'Price': 15,\n",
              "  'Quantity': 10},\n",
              " '125': {'Best Before': 'NA',\n",
              "  'Company': 'Pillsbury',\n",
              "  'Name': 'vegpuff',\n",
              "  'Price': 12,\n",
              "  'Quantity': 10},\n",
              " '126': {'Best Before': 'NA',\n",
              "  'Company': 'Pillsbury',\n",
              "  'Name': 'bread',\n",
              "  'Price': 25,\n",
              "  'Quantity': 5},\n",
              " '127': {'Best Before': 'NA',\n",
              "  'Company': 'Pillsbury',\n",
              "  'Name': 'sandwich',\n",
              "  'Price': 35,\n",
              "  'Quantity': 15},\n",
              " '128': {'Best Before': 'NA',\n",
              "  'Company': 'Amul',\n",
              "  'Name': 'icecream',\n",
              "  'Price': 50,\n",
              "  'Quantity': 50},\n",
              " '129': {'Best Before': 'NA',\n",
              "  'Company': 'Frootie',\n",
              "  'Name': 'juice',\n",
              "  'Price': 30,\n",
              "  'Quantity': 10},\n",
              " '130': {'Best Before': 'NA',\n",
              "  'Company': 'Pillsbury',\n",
              "  'Name': 'Buns',\n",
              "  'Price': 20,\n",
              "  'Quantity': 10},\n",
              " '131': {'Best Before': '1 year',\n",
              "  'Company': 'sharada',\n",
              "  'Name': 'calendar',\n",
              "  'Price': '20',\n",
              "  'Quantity': 100},\n",
              " '132': {'Best Before': '6 months',\n",
              "  'Company': 'growmore',\n",
              "  'Name': 'complan',\n",
              "  'Price': '200',\n",
              "  'Quantity': 30},\n",
              " '133': {'Best Before': '5 month',\n",
              "  'Company': 'horlicks',\n",
              "  'Name': 'horlicks',\n",
              "  'Price': '199',\n",
              "  'Quantity': 20}}"
            ]
          },
          "metadata": {},
          "execution_count": 16
        }
      ]
    },
    {
      "cell_type": "markdown",
      "metadata": {
        "id": "VVTDFZWjaGm-"
      },
      "source": [
        "# Viewing the Products"
      ]
    },
    {
      "cell_type": "code",
      "metadata": {
        "id": "QrSm6fTyaNs7"
      },
      "source": [
        "file = open(\"record.json\",'r')\n",
        "r = file.read()\n",
        "file.close()\n",
        "record = json.loads(r)"
      ],
      "execution_count": null,
      "outputs": []
    },
    {
      "cell_type": "code",
      "metadata": {
        "colab": {
          "base_uri": "https://localhost:8080/"
        },
        "id": "yidLsss6aS4E",
        "outputId": "7c7347d4-ecd4-4753-85d6-16f9031245ed"
      },
      "source": [
        "print(\"***************************************\\n\")\n",
        "print(\"Product ID\".center(15)+\"PRODUCT NAME\".center(15)+\"\\n\")\n",
        "print(\"***************************************\\n\")\n",
        "for i in record:\n",
        "  print(str(i).center(15) +\"\\t\"+ str(record[i]['Name']).center(15) )"
      ],
      "execution_count": null,
      "outputs": [
        {
          "output_type": "stream",
          "name": "stdout",
          "text": [
            "***************************************\n",
            "\n",
            "   Product ID    PRODUCT NAME \n",
            "\n",
            "***************************************\n",
            "\n",
            "      101      \t    Fivestar   \n",
            "      102      \t    Eclairs    \n",
            "      103      \t   Diary Milk  \n",
            "      104      \t     Bounty    \n",
            "      105      \t   Kinder Joy  \n",
            "      106      \t      Oreo     \n",
            "      107      \t  Dark Fantasy \n",
            "      108      \t Hide and Seek \n",
            "      109      \t     Gooday    \n",
            "      110      \t    Parle G    \n",
            "      111      \t   Red velvet  \n",
            "      112      \t    Lavacake   \n",
            "      113      \tDeath by Chocolate\n",
            "      114      \t  butterscotch \n",
            "      115      \t chocolatecake \n",
            "      116      \t      Lays     \n",
            "      117      \t    kurkure    \n",
            "      118      \t     bingo     \n",
            "      119      \t   moongdhal   \n",
            "      120      \t  littlehearts \n",
            "      121      \t     TooYum    \n",
            "      122      \t     Samosa    \n",
            "      123      \t     maggie    \n",
            "      124      \t    eggpuff    \n",
            "      125      \t    vegpuff    \n",
            "      126      \t     bread     \n",
            "      127      \t    sandwich   \n",
            "      128      \t    icecream   \n",
            "      129      \t     juice     \n",
            "      130      \t      Buns     \n",
            "      132      \t    complan    \n",
            "      133      \t    horlicks   \n",
            "      131      \t    calendar   \n"
          ]
        }
      ]
    },
    {
      "cell_type": "markdown",
      "metadata": {
        "id": "d8iKAMaLgGSv"
      },
      "source": [
        "# Purchase \n"
      ]
    },
    {
      "cell_type": "code",
      "metadata": {
        "colab": {
          "base_uri": "https://localhost:8080/"
        },
        "id": "xvN3L3a6gQ1Q",
        "outputId": "237c23a3-c3e3-4351-92d0-3e62b4cb8557"
      },
      "source": [
        "\n",
        "ui_prod=str(input('Enter the product ID of the product: '))\n",
        "ui_quant=int(input('Enter the quantinty of the product: '))\n",
        "\n",
        "\n",
        "print('***********PURCHASE SUMMARY***********')\n",
        "print('Product Name:          ',record[ui_prod]['Name'])\n",
        "print('Price (per quantity):  ',record[ui_prod]['Price'])\n",
        "print('Total Amount :         ',record[ui_prod]['Price']*ui_quant)\n",
        "print('***************************************')\n",
        "\n",
        "\n",
        "\n",
        "\n",
        "\n",
        "record[ui_prod]['Quantity'] =record[ui_prod]['Quantity']-ui_quant"
      ],
      "execution_count": null,
      "outputs": [
        {
          "output_type": "stream",
          "name": "stdout",
          "text": [
            "Enter the product ID of the product: 123\n",
            "Enter the quantinty of the product: 2\n",
            "***********PURCHASE SUMMARY***********\n",
            "Product Name:           maggie\n",
            "Price (per quantity):   10\n",
            "Total Amount :          20\n",
            "***************************************\n"
          ]
        }
      ]
    },
    {
      "cell_type": "code",
      "metadata": {
        "colab": {
          "base_uri": "https://localhost:8080/"
        },
        "id": "tLmT7RhQlHuh",
        "outputId": "bd30a458-db1b-4bee-ab4b-430c7a730285"
      },
      "source": [
        "record\n"
      ],
      "execution_count": null,
      "outputs": [
        {
          "output_type": "execute_result",
          "data": {
            "text/plain": [
              "{'101': {'Best Before': '5 months',\n",
              "  'Company': 'Cadbury',\n",
              "  'Name': 'Fivestar',\n",
              "  'Price': 10,\n",
              "  'Quantity': 100},\n",
              " '102': {'Best Before': '5 months',\n",
              "  'Company': 'Cadbury',\n",
              "  'Name': 'Eclairs',\n",
              "  'Price': 1,\n",
              "  'Quantity': 500},\n",
              " '103': {'Best Before': '5 months',\n",
              "  'Company': 'Cadbury',\n",
              "  'Name': 'Diary Milk',\n",
              "  'Price': 20,\n",
              "  'Quantity': 200},\n",
              " '104': {'Best Before': '5 months',\n",
              "  'Company': 'PNG',\n",
              "  'Name': 'Bounty',\n",
              "  'Price': 50,\n",
              "  'Quantity': 100},\n",
              " '105': {'Best Before': '5 months',\n",
              "  'Company': 'Ferrero',\n",
              "  'Name': 'Kinder Joy',\n",
              "  'Price': 30,\n",
              "  'Quantity': 25},\n",
              " '106': {'Best Before': '5 months',\n",
              "  'Company': 'ITC',\n",
              "  'Name': 'Oreo',\n",
              "  'Price': 10,\n",
              "  'Quantity': 50},\n",
              " '107': {'Best Before': '5 months',\n",
              "  'Company': 'ITC',\n",
              "  'Name': 'Dark Fantasy',\n",
              "  'Price': 30,\n",
              "  'Quantity': 20},\n",
              " '108': {'Best Before': '5 months',\n",
              "  'Company': 'ITC',\n",
              "  'Name': 'Hide and Seek',\n",
              "  'Price': 10,\n",
              "  'Quantity': 20},\n",
              " '109': {'Best Before': '5 months',\n",
              "  'Company': 'ITC',\n",
              "  'Name': 'Gooday',\n",
              "  'Price': 10,\n",
              "  'Quantity': 20},\n",
              " '110': {'Best Before': '5 months',\n",
              "  'Company': 'ITC',\n",
              "  'Name': 'Parle G',\n",
              "  'Price': 5,\n",
              "  'Quantity': 16},\n",
              " '111': {'Best Before': '5 months',\n",
              "  'Company': 'Pillsbury',\n",
              "  'Name': 'Red velvet',\n",
              "  'Price': 40,\n",
              "  'Quantity': 1},\n",
              " '112': {'Best Before': 'NA',\n",
              "  'Company': 'Pillsbury',\n",
              "  'Name': 'Lavacake',\n",
              "  'Price': 35,\n",
              "  'Quantity': 1},\n",
              " '113': {'Best Before': 'NA',\n",
              "  'Company': 'Pillsbury',\n",
              "  'Name': 'Death by Chocolate',\n",
              "  'Price': 45,\n",
              "  'Quantity': 1},\n",
              " '114': {'Best Before': 'NA',\n",
              "  'Company': 'Pillsbury',\n",
              "  'Name': 'butterscotch',\n",
              "  'Price': 40,\n",
              "  'Quantity': 1},\n",
              " '115': {'Best Before': 'NA',\n",
              "  'Company': 'Pillsbury',\n",
              "  'Name': 'chocolatecake',\n",
              "  'Price': 35,\n",
              "  'Quantity': 1},\n",
              " '116': {'Best Before': '1 month',\n",
              "  'Company': 'ITC',\n",
              "  'Name': 'Lays',\n",
              "  'Price': 10,\n",
              "  'Quantity': 20},\n",
              " '117': {'Best Before': '1 month',\n",
              "  'Company': 'ITC',\n",
              "  'Name': 'kurkure',\n",
              "  'Price': 10,\n",
              "  'Quantity': 20},\n",
              " '118': {'Best Before': '1 month',\n",
              "  'Company': 'ITC',\n",
              "  'Name': 'bingo',\n",
              "  'Price': 10,\n",
              "  'Quantity': 20},\n",
              " '119': {'Best Before': '1 month',\n",
              "  'Company': 'ITC',\n",
              "  'Name': 'moongdhal',\n",
              "  'Price': 10,\n",
              "  'Quantity': 20},\n",
              " '120': {'Best Before': '1 month',\n",
              "  'Company': 'ITC',\n",
              "  'Name': 'littlehearts',\n",
              "  'Price': 5,\n",
              "  'Quantity': 15},\n",
              " '121': {'Best Before': '1 month',\n",
              "  'Company': 'ITC',\n",
              "  'Name': 'TooYum',\n",
              "  'Price': 10,\n",
              "  'Quantity': 15},\n",
              " '122': {'Best Before': 'NA',\n",
              "  'Company': 'Pillsbury',\n",
              "  'Name': 'Samosa',\n",
              "  'Price': 10,\n",
              "  'Quantity': 10},\n",
              " '123': {'Best Before': '1 month',\n",
              "  'Company': 'Nestle',\n",
              "  'Name': 'maggie',\n",
              "  'Price': 10,\n",
              "  'Quantity': 10},\n",
              " '124': {'Best Before': 'NA',\n",
              "  'Company': 'Pillsbury',\n",
              "  'Name': 'eggpuff',\n",
              "  'Price': 15,\n",
              "  'Quantity': 10},\n",
              " '125': {'Best Before': 'NA',\n",
              "  'Company': 'Pillsbury',\n",
              "  'Name': 'vegpuff',\n",
              "  'Price': 12,\n",
              "  'Quantity': 10},\n",
              " '126': {'Best Before': 'NA',\n",
              "  'Company': 'Pillsbury',\n",
              "  'Name': 'bread',\n",
              "  'Price': 25,\n",
              "  'Quantity': 5},\n",
              " '127': {'Best Before': 'NA',\n",
              "  'Company': 'Pillsbury',\n",
              "  'Name': 'sandwich',\n",
              "  'Price': 35,\n",
              "  'Quantity': 15},\n",
              " '128': {'Best Before': 'NA',\n",
              "  'Company': 'Amul',\n",
              "  'Name': 'icecream',\n",
              "  'Price': 50,\n",
              "  'Quantity': 50},\n",
              " '129': {'Best Before': 'NA',\n",
              "  'Company': 'Frootie',\n",
              "  'Name': 'juice',\n",
              "  'Price': 30,\n",
              "  'Quantity': 10},\n",
              " '130': {'Best Before': 'NA',\n",
              "  'Company': 'Pillsbury',\n",
              "  'Name': 'Buns',\n",
              "  'Price': 20,\n",
              "  'Quantity': 10},\n",
              " '131': {'Best Before': '1 year',\n",
              "  'Company': 'sharada',\n",
              "  'Name': 'calendar',\n",
              "  'Price': '20',\n",
              "  'Quantity': 100},\n",
              " '132': {'Best Before': '6 months',\n",
              "  'Company': 'growmore',\n",
              "  'Name': 'complan',\n",
              "  'Price': '200',\n",
              "  'Quantity': 30},\n",
              " '133': {'Best Before': '5 month',\n",
              "  'Company': 'horlicks',\n",
              "  'Name': 'horlicks',\n",
              "  'Price': '199',\n",
              "  'Quantity': 20}}"
            ]
          },
          "metadata": {},
          "execution_count": 29
        }
      ]
    },
    {
      "cell_type": "markdown",
      "metadata": {
        "id": "E0AVGHAnlhjJ"
      },
      "source": [
        "# Update inventory AFTER purchase"
      ]
    },
    {
      "cell_type": "code",
      "metadata": {
        "colab": {
          "base_uri": "https://localhost:8080/"
        },
        "id": "LIMEVyB3lqLZ",
        "outputId": "478d82e7-18b4-4690-fd8a-af04023ef33c"
      },
      "source": [
        "js = json.dumps(record)\n",
        "\n",
        "fd =open('record.json','w')\n",
        "fd.write(js)\n",
        "fd.close"
      ],
      "execution_count": null,
      "outputs": [
        {
          "output_type": "execute_result",
          "data": {
            "text/plain": [
              "<function TextIOWrapper.close>"
            ]
          },
          "metadata": {},
          "execution_count": 32
        }
      ]
    },
    {
      "cell_type": "code",
      "metadata": {
        "colab": {
          "base_uri": "https://localhost:8080/",
          "height": 511
        },
        "id": "u9RbTtWdmPop",
        "outputId": "552078c5-a10b-4f1e-f7f4-b47c9a1ff735"
      },
      "source": [
        "js\n"
      ],
      "execution_count": null,
      "outputs": [
        {
          "output_type": "execute_result",
          "data": {
            "application/vnd.google.colaboratory.intrinsic+json": {
              "type": "string"
            },
            "text/plain": [
              "'{\"101\": {\"Name\": \"Fivestar\", \"Price\": 10, \"Quantity\": 100, \"Company\": \"Cadbury\", \"Best Before\": \"5 months\"}, \"102\": {\"Name\": \"Eclairs\", \"Price\": 1, \"Quantity\": 500, \"Company\": \"Cadbury\", \"Best Before\": \"5 months\"}, \"103\": {\"Name\": \"Diary Milk\", \"Price\": 20, \"Quantity\": 200, \"Company\": \"Cadbury\", \"Best Before\": \"5 months\"}, \"104\": {\"Name\": \"Bounty\", \"Price\": 50, \"Quantity\": 100, \"Company\": \"PNG\", \"Best Before\": \"5 months\"}, \"105\": {\"Name\": \"Kinder Joy\", \"Price\": 30, \"Quantity\": 25, \"Company\": \"Ferrero\", \"Best Before\": \"5 months\"}, \"106\": {\"Name\": \"Oreo\", \"Price\": 10, \"Quantity\": 50, \"Company\": \"ITC\", \"Best Before\": \"5 months\"}, \"107\": {\"Name\": \"Dark Fantasy\", \"Price\": 30, \"Quantity\": 20, \"Company\": \"ITC\", \"Best Before\": \"5 months\"}, \"108\": {\"Name\": \"Hide and Seek\", \"Price\": 10, \"Quantity\": 20, \"Company\": \"ITC\", \"Best Before\": \"5 months\"}, \"109\": {\"Name\": \"Gooday\", \"Price\": 10, \"Quantity\": 20, \"Company\": \"ITC\", \"Best Before\": \"5 months\"}, \"110\": {\"Name\": \"Parle G\", \"Price\": 5, \"Quantity\": 16, \"Company\": \"ITC\", \"Best Before\": \"5 months\"}, \"111\": {\"Name\": \"Red velvet\", \"Price\": 40, \"Quantity\": 1, \"Company\": \"Pillsbury\", \"Best Before\": \"5 months\"}, \"112\": {\"Name\": \"Lavacake\", \"Price\": 35, \"Quantity\": 1, \"Company\": \"Pillsbury\", \"Best Before\": \"NA\"}, \"113\": {\"Name\": \"Death by Chocolate\", \"Price\": 45, \"Quantity\": 1, \"Company\": \"Pillsbury\", \"Best Before\": \"NA\"}, \"114\": {\"Name\": \"butterscotch\", \"Price\": 40, \"Quantity\": 1, \"Company\": \"Pillsbury\", \"Best Before\": \"NA\"}, \"115\": {\"Name\": \"chocolatecake\", \"Price\": 35, \"Quantity\": 1, \"Company\": \"Pillsbury\", \"Best Before\": \"NA\"}, \"116\": {\"Name\": \"Lays\", \"Price\": 10, \"Quantity\": 20, \"Company\": \"ITC\", \"Best Before\": \"1 month\"}, \"117\": {\"Name\": \"kurkure\", \"Price\": 10, \"Quantity\": 20, \"Company\": \"ITC\", \"Best Before\": \"1 month\"}, \"118\": {\"Name\": \"bingo\", \"Price\": 10, \"Quantity\": 20, \"Company\": \"ITC\", \"Best Before\": \"1 month\"}, \"119\": {\"Name\": \"moongdhal\", \"Price\": 10, \"Quantity\": 20, \"Company\": \"ITC\", \"Best Before\": \"1 month\"}, \"120\": {\"Name\": \"littlehearts\", \"Price\": 5, \"Quantity\": 15, \"Company\": \"ITC\", \"Best Before\": \"1 month\"}, \"121\": {\"Name\": \"TooYum\", \"Price\": 10, \"Quantity\": 15, \"Company\": \"ITC\", \"Best Before\": \"1 month\"}, \"122\": {\"Name\": \"Samosa\", \"Price\": 10, \"Quantity\": 10, \"Company\": \"Pillsbury\", \"Best Before\": \"NA\"}, \"123\": {\"Name\": \"maggie\", \"Price\": 10, \"Quantity\": 10, \"Company\": \"Nestle\", \"Best Before\": \"1 month\"}, \"124\": {\"Name\": \"eggpuff\", \"Price\": 15, \"Quantity\": 10, \"Company\": \"Pillsbury\", \"Best Before\": \"NA\"}, \"125\": {\"Name\": \"vegpuff\", \"Price\": 12, \"Quantity\": 10, \"Company\": \"Pillsbury\", \"Best Before\": \"NA\"}, \"126\": {\"Name\": \"bread\", \"Price\": 25, \"Quantity\": 5, \"Company\": \"Pillsbury\", \"Best Before\": \"NA\"}, \"127\": {\"Name\": \"sandwich\", \"Price\": 35, \"Quantity\": 15, \"Company\": \"Pillsbury\", \"Best Before\": \"NA\"}, \"128\": {\"Name\": \"icecream\", \"Price\": 50, \"Quantity\": 50, \"Company\": \"Amul\", \"Best Before\": \"NA\"}, \"129\": {\"Name\": \"juice\", \"Price\": 30, \"Quantity\": 10, \"Company\": \"Frootie\", \"Best Before\": \"NA\"}, \"130\": {\"Name\": \"Buns\", \"Price\": 20, \"Quantity\": 10, \"Company\": \"Pillsbury\", \"Best Before\": \"NA\"}, \"132\": {\"Name\": \"complan\", \"Price\": \"200\", \"Quantity\": 30, \"Company\": \"growmore\", \"Best Before\": \"6 months\"}, \"133\": {\"Name\": \"horlicks\", \"Price\": \"199\", \"Quantity\": 20, \"Company\": \"horlicks\", \"Best Before\": \"5 month\"}, \"131\": {\"Name\": \"calendar\", \"Price\": \"20\", \"Quantity\": 100, \"Company\": \"sharada\", \"Best Before\": \"1 year\"}}'"
            ]
          },
          "metadata": {},
          "execution_count": 33
        }
      ]
    },
    {
      "cell_type": "markdown",
      "metadata": {
        "id": "08_IKJ9dmgem"
      },
      "source": [
        "# Sales and BILLING\n"
      ]
    },
    {
      "cell_type": "code",
      "metadata": {
        "id": "A0KIHiRg1vO5"
      },
      "source": [
        "sales={}\n",
        "sale_id = 0"
      ],
      "execution_count": null,
      "outputs": []
    },
    {
      "cell_type": "code",
      "metadata": {
        "colab": {
          "base_uri": "https://localhost:8080/",
          "height": 357
        },
        "id": "t0UqupNp2JQd",
        "outputId": "b44edb13-a5f7-43ca-b668-e48d5626bd5c"
      },
      "source": [
        "\n",
        "import time\n",
        "while(True):\n",
        "  file = open(\"record.json\",'r')\n",
        "  r = file.read()\n",
        "  file.close()\n",
        "  record=json.loads(r)\n",
        "  id = str(input(\"Enter the product id: \"))\n",
        "  if (id in record):\n",
        "    pass\n",
        "  else:\n",
        "    print(\"Invalid ID\")\n",
        "    print(\"\\n\")\n",
        "    continue\n",
        "  print(\"\\nProduct name :\",record[id]['Name'])\n",
        "  price = int(record[id]['Price'])\n",
        "  print(\"Price :\",record[id]['Price'])\n",
        "  quantity = int(input(\"\\nEnter quantity: \"))\n",
        "  if (quantity > (record[id]['Quantity'])):\n",
        "    print(\"\\nStock Not Available\")\n",
        "    print(\"Available stock :\", record[id]['Quantity'])\n",
        "    print(\"\\n\")\n",
        "  else:\n",
        "    total_price =  price*quantity\n",
        "    print(\"TOTAL AMOUNT :\",total_price)\n",
        "    purchased_quantity = quantity\n",
        "    quantity = int(record[id]['Quantity']) - quantity\n",
        "    record[id]['Quantity'] = quantity\n",
        "    sale_id = sale_id+1\n",
        "    sales[sale_id] = {\"Product ID\":id, \"Name\":str(record[id]['Name']),\"Quantity\":str(purchased_quantity),\"Price\":total_price}\n",
        "    sale = json.dumps(sales)\n",
        "    file = open(\"sales.json\",'w')\n",
        "    file.write(sale)\n",
        "    file.close()\n",
        "    print(\"\\n_______________________________________________________________________\\n\")\n",
        "    print(\"\\n************************************BILL*******************************\")\n",
        "    print(\"\\n_______________________________________________________________________\\n\")\n",
        "    print(\"Product ID\".center(15)+\"PRODUCT NAME\".center(25)+\"QUANTITY\".center(15)+\"PRICE\".center(15))\n",
        "    print(\"\\n-----------------------------------------------------------------------\")\n",
        "    print(str(id.center(15)) + str(record[id]['Name']).center(25) + str(purchased_quantity).center(15) + str(total_price).center(15) )\n",
        "    print(\"\\n-----------------------------------------------------------------------\")\n",
        "    print(\"TOTAL PRICE\".center(55)+str(total_price).center(15))\n",
        "    print(\"\\n-----------------------------------------------------------------------\")\n",
        "    print(\"Date:\",time.ctime())\n",
        "    print(\"\\n_______________________________________________________________________\\n\")\n",
        "    print(\"\\n********************THANK YOU,VISIT AGAIN******************************\")\n",
        "    print(\"\\n_______________________________________________________________________\\n\")\n",
        "    print(\"\\n\")\n",
        "    break"
      ],
      "execution_count": null,
      "outputs": [
        {
          "output_type": "error",
          "ename": "JSONDecodeError",
          "evalue": "ignored",
          "traceback": [
            "\u001b[0;31m---------------------------------------------------------------------------\u001b[0m",
            "\u001b[0;31mJSONDecodeError\u001b[0m                           Traceback (most recent call last)",
            "\u001b[0;32m<ipython-input-83-17f48d4f6c58>\u001b[0m in \u001b[0;36m<module>\u001b[0;34m()\u001b[0m\n\u001b[1;32m      5\u001b[0m   \u001b[0mr\u001b[0m \u001b[0;34m=\u001b[0m \u001b[0mfile\u001b[0m\u001b[0;34m.\u001b[0m\u001b[0mread\u001b[0m\u001b[0;34m(\u001b[0m\u001b[0;34m)\u001b[0m\u001b[0;34m\u001b[0m\u001b[0;34m\u001b[0m\u001b[0m\n\u001b[1;32m      6\u001b[0m   \u001b[0mfile\u001b[0m\u001b[0;34m.\u001b[0m\u001b[0mclose\u001b[0m\u001b[0;34m(\u001b[0m\u001b[0;34m)\u001b[0m\u001b[0;34m\u001b[0m\u001b[0;34m\u001b[0m\u001b[0m\n\u001b[0;32m----> 7\u001b[0;31m   \u001b[0mrecord\u001b[0m\u001b[0;34m=\u001b[0m\u001b[0mjson\u001b[0m\u001b[0;34m.\u001b[0m\u001b[0mloads\u001b[0m\u001b[0;34m(\u001b[0m\u001b[0mr\u001b[0m\u001b[0;34m)\u001b[0m\u001b[0;34m\u001b[0m\u001b[0;34m\u001b[0m\u001b[0m\n\u001b[0m\u001b[1;32m      8\u001b[0m   \u001b[0mid\u001b[0m \u001b[0;34m=\u001b[0m \u001b[0mstr\u001b[0m\u001b[0;34m(\u001b[0m\u001b[0minput\u001b[0m\u001b[0;34m(\u001b[0m\u001b[0;34m\"Enter the product id: \"\u001b[0m\u001b[0;34m)\u001b[0m\u001b[0;34m)\u001b[0m\u001b[0;34m\u001b[0m\u001b[0;34m\u001b[0m\u001b[0m\n\u001b[1;32m      9\u001b[0m   \u001b[0;32mif\u001b[0m \u001b[0;34m(\u001b[0m\u001b[0mid\u001b[0m \u001b[0;32min\u001b[0m \u001b[0mrecord\u001b[0m\u001b[0;34m)\u001b[0m\u001b[0;34m:\u001b[0m\u001b[0;34m\u001b[0m\u001b[0;34m\u001b[0m\u001b[0m\n",
            "\u001b[0;32m/usr/lib/python3.7/json/__init__.py\u001b[0m in \u001b[0;36mloads\u001b[0;34m(s, encoding, cls, object_hook, parse_float, parse_int, parse_constant, object_pairs_hook, **kw)\u001b[0m\n\u001b[1;32m    346\u001b[0m             \u001b[0mparse_int\u001b[0m \u001b[0;32mis\u001b[0m \u001b[0;32mNone\u001b[0m \u001b[0;32mand\u001b[0m \u001b[0mparse_float\u001b[0m \u001b[0;32mis\u001b[0m \u001b[0;32mNone\u001b[0m \u001b[0;32mand\u001b[0m\u001b[0;34m\u001b[0m\u001b[0;34m\u001b[0m\u001b[0m\n\u001b[1;32m    347\u001b[0m             parse_constant is None and object_pairs_hook is None and not kw):\n\u001b[0;32m--> 348\u001b[0;31m         \u001b[0;32mreturn\u001b[0m \u001b[0m_default_decoder\u001b[0m\u001b[0;34m.\u001b[0m\u001b[0mdecode\u001b[0m\u001b[0;34m(\u001b[0m\u001b[0ms\u001b[0m\u001b[0;34m)\u001b[0m\u001b[0;34m\u001b[0m\u001b[0;34m\u001b[0m\u001b[0m\n\u001b[0m\u001b[1;32m    349\u001b[0m     \u001b[0;32mif\u001b[0m \u001b[0mcls\u001b[0m \u001b[0;32mis\u001b[0m \u001b[0;32mNone\u001b[0m\u001b[0;34m:\u001b[0m\u001b[0;34m\u001b[0m\u001b[0;34m\u001b[0m\u001b[0m\n\u001b[1;32m    350\u001b[0m         \u001b[0mcls\u001b[0m \u001b[0;34m=\u001b[0m \u001b[0mJSONDecoder\u001b[0m\u001b[0;34m\u001b[0m\u001b[0;34m\u001b[0m\u001b[0m\n",
            "\u001b[0;32m/usr/lib/python3.7/json/decoder.py\u001b[0m in \u001b[0;36mdecode\u001b[0;34m(self, s, _w)\u001b[0m\n\u001b[1;32m    335\u001b[0m \u001b[0;34m\u001b[0m\u001b[0m\n\u001b[1;32m    336\u001b[0m         \"\"\"\n\u001b[0;32m--> 337\u001b[0;31m         \u001b[0mobj\u001b[0m\u001b[0;34m,\u001b[0m \u001b[0mend\u001b[0m \u001b[0;34m=\u001b[0m \u001b[0mself\u001b[0m\u001b[0;34m.\u001b[0m\u001b[0mraw_decode\u001b[0m\u001b[0;34m(\u001b[0m\u001b[0ms\u001b[0m\u001b[0;34m,\u001b[0m \u001b[0midx\u001b[0m\u001b[0;34m=\u001b[0m\u001b[0m_w\u001b[0m\u001b[0;34m(\u001b[0m\u001b[0ms\u001b[0m\u001b[0;34m,\u001b[0m \u001b[0;36m0\u001b[0m\u001b[0;34m)\u001b[0m\u001b[0;34m.\u001b[0m\u001b[0mend\u001b[0m\u001b[0;34m(\u001b[0m\u001b[0;34m)\u001b[0m\u001b[0;34m)\u001b[0m\u001b[0;34m\u001b[0m\u001b[0;34m\u001b[0m\u001b[0m\n\u001b[0m\u001b[1;32m    338\u001b[0m         \u001b[0mend\u001b[0m \u001b[0;34m=\u001b[0m \u001b[0m_w\u001b[0m\u001b[0;34m(\u001b[0m\u001b[0ms\u001b[0m\u001b[0;34m,\u001b[0m \u001b[0mend\u001b[0m\u001b[0;34m)\u001b[0m\u001b[0;34m.\u001b[0m\u001b[0mend\u001b[0m\u001b[0;34m(\u001b[0m\u001b[0;34m)\u001b[0m\u001b[0;34m\u001b[0m\u001b[0;34m\u001b[0m\u001b[0m\n\u001b[1;32m    339\u001b[0m         \u001b[0;32mif\u001b[0m \u001b[0mend\u001b[0m \u001b[0;34m!=\u001b[0m \u001b[0mlen\u001b[0m\u001b[0;34m(\u001b[0m\u001b[0ms\u001b[0m\u001b[0;34m)\u001b[0m\u001b[0;34m:\u001b[0m\u001b[0;34m\u001b[0m\u001b[0;34m\u001b[0m\u001b[0m\n",
            "\u001b[0;32m/usr/lib/python3.7/json/decoder.py\u001b[0m in \u001b[0;36mraw_decode\u001b[0;34m(self, s, idx)\u001b[0m\n\u001b[1;32m    353\u001b[0m             \u001b[0mobj\u001b[0m\u001b[0;34m,\u001b[0m \u001b[0mend\u001b[0m \u001b[0;34m=\u001b[0m \u001b[0mself\u001b[0m\u001b[0;34m.\u001b[0m\u001b[0mscan_once\u001b[0m\u001b[0;34m(\u001b[0m\u001b[0ms\u001b[0m\u001b[0;34m,\u001b[0m \u001b[0midx\u001b[0m\u001b[0;34m)\u001b[0m\u001b[0;34m\u001b[0m\u001b[0;34m\u001b[0m\u001b[0m\n\u001b[1;32m    354\u001b[0m         \u001b[0;32mexcept\u001b[0m \u001b[0mStopIteration\u001b[0m \u001b[0;32mas\u001b[0m \u001b[0merr\u001b[0m\u001b[0;34m:\u001b[0m\u001b[0;34m\u001b[0m\u001b[0;34m\u001b[0m\u001b[0m\n\u001b[0;32m--> 355\u001b[0;31m             \u001b[0;32mraise\u001b[0m \u001b[0mJSONDecodeError\u001b[0m\u001b[0;34m(\u001b[0m\u001b[0;34m\"Expecting value\"\u001b[0m\u001b[0;34m,\u001b[0m \u001b[0ms\u001b[0m\u001b[0;34m,\u001b[0m \u001b[0merr\u001b[0m\u001b[0;34m.\u001b[0m\u001b[0mvalue\u001b[0m\u001b[0;34m)\u001b[0m \u001b[0;32mfrom\u001b[0m \u001b[0;32mNone\u001b[0m\u001b[0;34m\u001b[0m\u001b[0;34m\u001b[0m\u001b[0m\n\u001b[0m\u001b[1;32m    356\u001b[0m         \u001b[0;32mreturn\u001b[0m \u001b[0mobj\u001b[0m\u001b[0;34m,\u001b[0m \u001b[0mend\u001b[0m\u001b[0;34m\u001b[0m\u001b[0;34m\u001b[0m\u001b[0m\n",
            "\u001b[0;31mJSONDecodeError\u001b[0m: Expecting value: line 1 column 1 (char 0)"
          ]
        }
      ]
    },
    {
      "cell_type": "code",
      "metadata": {
        "colab": {
          "base_uri": "https://localhost:8080/"
        },
        "id": "rCqX94Fm3Ull",
        "outputId": "530ad21f-92c3-453c-9ff0-565179e9938c"
      },
      "source": [
        "## SALE REPORT\n",
        "import json\n",
        "file = open(\"sales.json\",'r')\n",
        "r = file.read()\n",
        "file.close()\n",
        "record = json.loads(r)\n",
        "print(\"******************************************************************************************\\n\")\n",
        "print(\"Product ID\".center(15)+\"PRODUCT NAME\".center(25)+\"PURCHASED QUANTITY\".center(25)+\"PURCHASED PRICE\".center(25)+\"\\n\")\n",
        "print(\"******************************************************************************************\\n\")\n",
        "sum = 0\n",
        "for i in record:\n",
        "  print(str(i).center(15) + str(record[i]['Name']).center(25) + str(record[i]['Quantity']).center(25) + str(record[i]['Price']).center(25) )\n",
        "  sum = sum + record[i]['Price']\n",
        "print(\"__________________________________________________________________________________________\\n\")\n",
        "print(\"Total Sales Price\".center(65)+str(sum).center(25))\n",
        "print(\"__________________________________________________________________________________________\\n\")"
      ],
      "execution_count": null,
      "outputs": [
        {
          "output_type": "stream",
          "name": "stdout",
          "text": [
            "******************************************************************************************\n",
            "\n",
            "   Product ID         PRODUCT NAME          PURCHASED QUANTITY        PURCHASED PRICE     \n",
            "\n",
            "******************************************************************************************\n",
            "\n",
            "       1                 maggie                     2                        20           \n",
            "__________________________________________________________________________________________\n",
            "\n",
            "                        Total Sales Price                                    20           \n",
            "__________________________________________________________________________________________\n",
            "\n"
          ]
        }
      ]
    },
    {
      "cell_type": "code",
      "metadata": {
        "colab": {
          "base_uri": "https://localhost:8080/",
          "height": 171
        },
        "id": "qnMRmEOy7n1T",
        "outputId": "c07dd30e-b318-41f6-d300-baa62b7b19b9"
      },
      "source": [
        "js\n"
      ],
      "execution_count": null,
      "outputs": [
        {
          "output_type": "execute_result",
          "data": {
            "application/vnd.google.colaboratory.intrinsic+json": {
              "type": "string"
            },
            "text/plain": [
              "'{\"101\": {\"Name\": \"Fivestar\", \"Price\": 10, \"Quantity\": 100, \"Company\": \"Cadbury\", \"Best Before\": \"5 months\"}, \"102\": {\"Name\": \"Eclairs\", \"Price\": 1, \"Quantity\": 500, \"Company\": \"Cadbury\", \"Best Before\": \"5 months\"}, \"103\": {\"Name\": \"Diary Milk\", \"Price\": 20, \"Quantity\": 200, \"Company\": \"Cadbury\", \"Best Before\": \"5 months\"}, \"104\": {\"Name\": \"Bounty\", \"Price\": 50, \"Quantity\": 100, \"Company\": \"PNG\", \"Best Before\": \"5 months\"}, \"105\": {\"Name\": \"Kinder Joy\", \"Price\": 30, \"Quantity\": 25, \"Company\": \"Ferrero\", \"Best Before\": \"5 months\"}, \"106\": {\"Name\": \"Oreo\", \"Price\": 10, \"Quantity\": 50, \"Company\": \"ITC\", \"Best Before\": \"5 months\"}, \"107\": {\"Name\": \"Dark Fantasy\", \"Price\": 30, \"Quantity\": 20, \"Company\": \"ITC\", \"Best Before\": \"5 months\"}, \"108\": {\"Name\": \"Hide and Seek\", \"Price\": 10, \"Quantity\": 20, \"Company\": \"ITC\", \"Best Before\": \"5 months\"}, \"109\": {\"Name\": \"Gooday\", \"Price\": 10, \"Quantity\": 20, \"Company\": \"ITC\", \"Best Before\": \"5 months\"}, \"110\": {\"Name\": \"Parle G\", \"Price\": 5, \"Quantity\": 16, \"Company\": \"ITC\", \"Best Before\": \"5 months\"}, \"111\": {\"Name\": \"Red velvet\", \"Price\": 40, \"Quantity\": 1, \"Company\": \"Pillsbury\", \"Best Before\": \"5 months\"}, \"112\": {\"Name\": \"Lavacake\", \"Price\": 35, \"Quantity\": 1, \"Company\": \"Pillsbury\", \"Best Before\": \"NA\"}, \"113\": {\"Name\": \"Death by Chocolate\", \"Price\": 45, \"Quantity\": 1, \"Company\": \"Pillsbury\", \"Best Before\": \"NA\"}, \"114\": {\"Name\": \"butterscotch\", \"Price\": 40, \"Quantity\": 1, \"Company\": \"Pillsbury\", \"Best Before\": \"NA\"}, \"115\": {\"Name\": \"chocolatecake\", \"Price\": 35, \"Quantity\": 1, \"Company\": \"Pillsbury\", \"Best Before\": \"NA\"}, \"116\": {\"Name\": \"Lays\", \"Price\": 10, \"Quantity\": 20, \"Company\": \"ITC\", \"Best Before\": \"1 month\"}, \"117\": {\"Name\": \"kurkure\", \"Price\": 10, \"Quantity\": 20, \"Company\": \"ITC\", \"Best Before\": \"1 month\"}, \"118\": {\"Name\": \"bingo\", \"Price\": 10, \"Quantity\": 20, \"Company\": \"ITC\", \"Best Before\": \"1 month\"}, \"119\": {\"Name\": \"moongdhal\", \"Price\": 10, \"Quantity\": 20, \"Company\": \"ITC\", \"Best Before\": \"1 month\"}, \"120\": {\"Name\": \"littlehearts\", \"Price\": 5, \"Quantity\": 15, \"Company\": \"ITC\", \"Best Before\": \"1 month\"}, \"121\": {\"Name\": \"TooYum\", \"Price\": 10, \"Quantity\": 15, \"Company\": \"ITC\", \"Best Before\": \"1 month\"}, \"122\": {\"Name\": \"Samosa\", \"Price\": 10, \"Quantity\": 10, \"Company\": \"Pillsbury\", \"Best Before\": \"NA\"}, \"123\": {\"Name\": \"maggie\", \"Price\": 10, \"Quantity\": 10, \"Company\": \"Nestle\", \"Best Before\": \"1 month\"}, \"124\": {\"Name\": \"eggpuff\", \"Price\": 15, \"Quantity\": 10, \"Company\": \"Pillsbury\", \"Best Before\": \"NA\"}, \"125\": {\"Name\": \"vegpuff\", \"Price\": 12, \"Quantity\": 10, \"Company\": \"Pillsbury\", \"Best Before\": \"NA\"}, \"126\": {\"Name\": \"bread\", \"Price\": 25, \"Quantity\": 5, \"Company\": \"Pillsbury\", \"Best Before\": \"NA\"}, \"127\": {\"Name\": \"sandwich\", \"Price\": 35, \"Quantity\": 15, \"Company\": \"Pillsbury\", \"Best Before\": \"NA\"}, \"128\": {\"Name\": \"icecream\", \"Price\": 50, \"Quantity\": 50, \"Company\": \"Amul\", \"Best Before\": \"NA\"}, \"129\": {\"Name\": \"juice\", \"Price\": 30, \"Quantity\": 10, \"Company\": \"Frootie\", \"Best Before\": \"NA\"}, \"130\": {\"Name\": \"Buns\", \"Price\": 20, \"Quantity\": 10, \"Company\": \"Pillsbury\", \"Best Before\": \"NA\"}, \"132\": {\"Name\": \"complan\", \"Price\": \"200\", \"Quantity\": 30, \"Company\": \"growmore\", \"Best Before\": \"6 months\"}, \"133\": {\"Name\": \"horlicks\", \"Price\": \"199\", \"Quantity\": 20, \"Company\": \"horlicks\", \"Best Before\": \"5 month\"}, \"131\": {\"Name\": \"calendar\", \"Price\": \"20\", \"Quantity\": 100, \"Company\": \"sharada\", \"Best Before\": \"1 year\"}}'"
            ]
          },
          "metadata": {},
          "execution_count": 82
        }
      ]
    }
  ]
}